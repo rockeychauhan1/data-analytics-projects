{
 "cells": [
  {
   "cell_type": "code",
   "execution_count": 22,
   "id": "c9f0ba39",
   "metadata": {},
   "outputs": [],
   "source": [
    "import numpy as np\n",
    "import random\n",
    "import pandas as pd\n",
    "import matplotlib.pyplot as plt\n",
    "import seaborn as sns #provides a high level interface of drawing informative statistical analysis\n",
    "sns.set_style(\"ticks\") #Five themes: darkgrid,whitegrid,dark,white,ticks\n",
    "%matplotlib inline\n",
    "plt.style.use(\"seaborn-poster\") #make bigger plots"
   ]
  },
  {
   "cell_type": "code",
   "execution_count": 25,
   "id": "40acf737",
   "metadata": {},
   "outputs": [],
   "source": [
    "df=pd.read_csv(\"Documents\\housing_prices_SLR.csv\")"
   ]
  },
  {
   "cell_type": "code",
   "execution_count": 15,
   "id": "dfa36706",
   "metadata": {},
   "outputs": [],
   "source": [
    "df.PRICE=np.round(df.PRICE/1000)"
   ]
  },
  {
   "cell_type": "code",
   "execution_count": 16,
   "id": "48fa0c68",
   "metadata": {},
   "outputs": [
    {
     "data": {
      "text/html": [
       "<div>\n",
       "<style scoped>\n",
       "    .dataframe tbody tr th:only-of-type {\n",
       "        vertical-align: middle;\n",
       "    }\n",
       "\n",
       "    .dataframe tbody tr th {\n",
       "        vertical-align: top;\n",
       "    }\n",
       "\n",
       "    .dataframe thead th {\n",
       "        text-align: right;\n",
       "    }\n",
       "</style>\n",
       "<table border=\"1\" class=\"dataframe\">\n",
       "  <thead>\n",
       "    <tr style=\"text-align: right;\">\n",
       "      <th></th>\n",
       "      <th>AREA</th>\n",
       "      <th>PRICE</th>\n",
       "    </tr>\n",
       "  </thead>\n",
       "  <tbody>\n",
       "    <tr>\n",
       "      <th>45</th>\n",
       "      <td>2350</td>\n",
       "      <td>16845.0</td>\n",
       "    </tr>\n",
       "    <tr>\n",
       "      <th>46</th>\n",
       "      <td>2380</td>\n",
       "      <td>17604.0</td>\n",
       "    </tr>\n",
       "    <tr>\n",
       "      <th>47</th>\n",
       "      <td>2410</td>\n",
       "      <td>17310.0</td>\n",
       "    </tr>\n",
       "    <tr>\n",
       "      <th>48</th>\n",
       "      <td>2440</td>\n",
       "      <td>14036.0</td>\n",
       "    </tr>\n",
       "    <tr>\n",
       "      <th>49</th>\n",
       "      <td>2470</td>\n",
       "      <td>13699.0</td>\n",
       "    </tr>\n",
       "  </tbody>\n",
       "</table>\n",
       "</div>"
      ],
      "text/plain": [
       "    AREA    PRICE\n",
       "45  2350  16845.0\n",
       "46  2380  17604.0\n",
       "47  2410  17310.0\n",
       "48  2440  14036.0\n",
       "49  2470  13699.0"
      ]
     },
     "execution_count": 16,
     "metadata": {},
     "output_type": "execute_result"
    }
   ],
   "source": [
    "df.tail()"
   ]
  },
  {
   "cell_type": "code",
   "execution_count": 19,
   "id": "a7e383ed",
   "metadata": {},
   "outputs": [
    {
     "name": "stdout",
     "output_type": "stream",
     "text": [
      "(50, 2)\n",
      "AREA       int64\n",
      "PRICE    float64\n",
      "dtype: object\n"
     ]
    }
   ],
   "source": [
    "print(df.shape)\n",
    "print(df.dtypes)\n",
    "msk=np.random"
   ]
  },
  {
   "cell_type": "code",
   "execution_count": 26,
   "id": "24e74df7",
   "metadata": {},
   "outputs": [],
   "source": [
    "x=df[[\"AREA\"]].values\n",
    "y=df[[\"PRICE\"]].values\n",
    "from sklearn.model_selection import train_test_split\n",
    "x_train,x_test,y_train,y_test=train_test_split(x,y,test_size=1/3,random_state=42)"
   ]
  },
  {
   "cell_type": "code",
   "execution_count": 27,
   "id": "5256beb7",
   "metadata": {},
   "outputs": [
    {
     "name": "stdout",
     "output_type": "stream",
     "text": [
      "(33, 1) (33, 1)\n",
      "(17, 1) (17, 1)\n"
     ]
    }
   ],
   "source": [
    "print(x_train.shape,y_train.shape)\n",
    "print(x_test.shape,y_test.shape)"
   ]
  },
  {
   "cell_type": "code",
   "execution_count": 28,
   "id": "6be3eed5",
   "metadata": {},
   "outputs": [
    {
     "name": "stdout",
     "output_type": "stream",
     "text": [
      "[[2380]\n",
      " [2410]\n",
      " [1450]\n",
      " [1270]\n",
      " [1480]\n",
      " [1720]\n",
      " [2020]\n",
      " [1930]\n",
      " [1000]\n",
      " [2320]\n",
      " [1810]\n",
      " [1990]\n",
      " [1150]\n",
      " [1870]\n",
      " [1330]\n",
      " [2080]\n",
      " [1030]\n",
      " [1630]\n",
      " [1060]\n",
      " [2290]\n",
      " [2050]\n",
      " [1690]\n",
      " [2200]\n",
      " [1300]\n",
      " [1660]\n",
      " [1540]\n",
      " [2470]\n",
      " [1600]\n",
      " [1210]\n",
      " [2260]\n",
      " [1420]\n",
      " [1840]\n",
      " [2140]] [[17604075.37]\n",
      " [17310328.58]\n",
      " [ 7535461.53]\n",
      " [ 6147374.49]\n",
      " [ 9967519.85]\n",
      " [10229062.76]\n",
      " [15220368.6 ]\n",
      " [10204168.56]\n",
      " [ 5617528.34]\n",
      " [16292734.63]\n",
      " [10503302.71]\n",
      " [10240098.23]\n",
      " [ 4944801.22]\n",
      " [11526886.08]\n",
      " [ 7034644.09]\n",
      " [22270473.64]\n",
      " [ 5201397.67]\n",
      " [10200978.75]\n",
      " [ 4778957.34]\n",
      " [16968517.78]\n",
      " [12277970.63]\n",
      " [ 9774888.31]\n",
      " [12793010.05]\n",
      " [ 7717652.75]\n",
      " [10050908.9 ]\n",
      " [ 9761757.42]\n",
      " [13698832.88]\n",
      " [ 8073815.28]\n",
      " [ 5351641.54]\n",
      " [17207103.58]\n",
      " [ 7303844.72]\n",
      " [ 9763293.7 ]\n",
      " [12617860.41]]\n",
      "[[1390]\n",
      " [2170]\n",
      " [1900]\n",
      " [2350]\n",
      " [1510]\n",
      " [2440]\n",
      " [1780]\n",
      " [1750]\n",
      " [1960]\n",
      " [1570]\n",
      " [1360]\n",
      " [1120]\n",
      " [2110]\n",
      " [1240]\n",
      " [1090]\n",
      " [1180]\n",
      " [2230]] [[ 9457409.28]\n",
      " [15457320.93]\n",
      " [ 9912288.39]\n",
      " [16844832.74]\n",
      " [ 7614220.  ]\n",
      " [14035821.57]\n",
      " [ 9287983.04]\n",
      " [ 8314071.64]\n",
      " [ 9085279.91]\n",
      " [10066834.67]\n",
      " [ 8711980.68]\n",
      " [ 5657235.9 ]\n",
      " [12574439.45]\n",
      " [ 6289541.05]\n",
      " [ 5424564.78]\n",
      " [ 6474952.94]\n",
      " [12640883.01]]\n"
     ]
    }
   ],
   "source": [
    "print(x_train,y_train)\n",
    "print(x_test,y_test)"
   ]
  },
  {
   "cell_type": "code",
   "execution_count": 30,
   "id": "3e89b985",
   "metadata": {},
   "outputs": [
    {
     "data": {
      "text/plain": [
       "LinearRegression()"
      ]
     },
     "execution_count": 30,
     "metadata": {},
     "output_type": "execute_result"
    }
   ],
   "source": [
    "from sklearn.linear_model import LinearRegression\n",
    "regressor=LinearRegression()\n",
    "regressor.fit(x_train,y_train)"
   ]
  },
  {
   "cell_type": "code",
   "execution_count": 31,
   "id": "2b15a80c",
   "metadata": {},
   "outputs": [
    {
     "data": {
      "text/plain": [
       "array([[ 7668527.34626948],\n",
       "       [14526267.26197481],\n",
       "       [12152434.21423066],\n",
       "       [16108822.62713758],\n",
       "       [ 8723564.256378  ],\n",
       "       [16900100.30971897],\n",
       "       [11097397.30412215],\n",
       "       [10833638.07659502],\n",
       "       [12679952.66928492],\n",
       "       [ 9251082.71143225],\n",
       "       [ 7404768.11874235],\n",
       "       [ 5294694.29852533],\n",
       "       [13998748.80692056],\n",
       "       [ 6349731.20863384],\n",
       "       [ 5030935.0709982 ],\n",
       "       [ 5822212.75357959],\n",
       "       [15053785.71702907]])"
      ]
     },
     "execution_count": 31,
     "metadata": {},
     "output_type": "execute_result"
    }
   ],
   "source": [
    "y_pred=regressor.predict(x_test)\n",
    "y_pred"
   ]
  },
  {
   "cell_type": "code",
   "execution_count": 32,
   "id": "61c8d6a5",
   "metadata": {},
   "outputs": [
    {
     "data": {
      "text/plain": [
       "array([[ 9457409.28],\n",
       "       [15457320.93],\n",
       "       [ 9912288.39],\n",
       "       [16844832.74],\n",
       "       [ 7614220.  ],\n",
       "       [14035821.57],\n",
       "       [ 9287983.04],\n",
       "       [ 8314071.64],\n",
       "       [ 9085279.91],\n",
       "       [10066834.67],\n",
       "       [ 8711980.68],\n",
       "       [ 5657235.9 ],\n",
       "       [12574439.45],\n",
       "       [ 6289541.05],\n",
       "       [ 5424564.78],\n",
       "       [ 6474952.94],\n",
       "       [12640883.01]])"
      ]
     },
     "execution_count": 32,
     "metadata": {},
     "output_type": "execute_result"
    }
   ],
   "source": [
    "y_test"
   ]
  },
  {
   "cell_type": "code",
   "execution_count": 33,
   "id": "03f7ab9e",
   "metadata": {},
   "outputs": [
    {
     "data": {
      "text/plain": [
       "<matplotlib.collections.PathCollection at 0x1dd1d4b4910>"
      ]
     },
     "execution_count": 33,
     "metadata": {},
     "output_type": "execute_result"
    },
    {
     "data": {
      "image/png": "[encoded data removed]",
      "text/plain": [
       "<Figure size 921.6x633.6 with 1 Axes>"
      ]
     },
     "metadata": {
      "needs_background": "light"
     },
     "output_type": "display_data"
    }
   ],
   "source": [
    "plt.scatter(x_train,y_train)\n"
   ]
  },
  {
   "cell_type": "code",
   "execution_count": 34,
   "id": "bd3c5bdd",
   "metadata": {},
   "outputs": [
    {
     "data": {
      "text/plain": [
       "[<matplotlib.lines.Line2D at 0x1dd1d523a60>]"
      ]
     },
     "execution_count": 34,
     "metadata": {},
     "output_type": "execute_result"
    },
    {
     "data": {
      "image/png": "[encoded data removed]",
      "text/plain": [
       "<Figure size 921.6x633.6 with 1 Axes>"
      ]
     },
     "metadata": {
      "needs_background": "light"
     },
     "output_type": "display_data"
    }
   ],
   "source": [
    "plt.plot(x_train,regressor.predict(x_train),color='red')"
   ]
  },
  {
   "cell_type": "code",
   "execution_count": 35,
   "id": "7eeebe2c",
   "metadata": {},
   "outputs": [
    {
     "data": {
      "text/plain": [
       "[<matplotlib.lines.Line2D at 0x1dd1d72dd30>]"
      ]
     },
     "execution_count": 35,
     "metadata": {},
     "output_type": "execute_result"
    },
    {
     "data": {
      "image/png": "[encoded data removed]",
      "text/plain": [
       "<Figure size 921.6x633.6 with 1 Axes>"
      ]
     },
     "metadata": {
      "needs_background": "light"
     },
     "output_type": "display_data"
    }
   ],
   "source": [
    "plt.scatter(x_train,y_train)\n",
    "plt.plot(x_train,regressor.predict(x_train),color='red')"
   ]
  },
  {
   "cell_type": "code",
   "execution_count": 37,
   "id": "1fe0a867",
   "metadata": {},
   "outputs": [
    {
     "data": {
      "text/plain": [
       "Text(0.5, 1.0, 'HOUSE AREA VS HOUSE PRICE')"
      ]
     },
     "execution_count": 37,
     "metadata": {},
     "output_type": "execute_result"
    },
    {
     "data": {
      "image/png": "[encoded data removed]",
      "text/plain": [
       "<Figure size 1440x720 with 1 Axes>"
      ]
     },
     "metadata": {
      "needs_background": "light"
     },
     "output_type": "display_data"
    }
   ],
   "source": [
    "fig=plt.figure(figsize=(20,10))\n",
    "ax=fig.add_subplot(111)\n",
    "ax.scatter(x_train,y_train,antialiased=True)\n",
    "ax.plot(x_train,regressor.predict(x_train),color='red')\n",
    "ax.set_xlabel(\"AREA\")\n",
    "ax.set_ylabel(\"PRICE\")\n",
    "ax.set_title(\"HOUSE AREA VS HOUSE PRICE\")"
   ]
  },
  {
   "cell_type": "code",
   "execution_count": 39,
   "id": "c1eb9e66",
   "metadata": {},
   "outputs": [
    {
     "name": "stdout",
     "output_type": "stream",
     "text": [
      "Baseline Prediction: 10793675.0\n"
     ]
    }
   ],
   "source": [
    "baseline_pred=np.round(y_train.mean())\n",
    "print(\"Baseline Prediction:\",baseline_pred)"
   ]
  },
  {
   "cell_type": "code",
   "execution_count": 43,
   "id": "ef4827bd",
   "metadata": {},
   "outputs": [
    {
     "name": "stdout",
     "output_type": "stream",
     "text": [
      "ERRORS: [[ 6810400.37]\n",
      " [ 6516653.58]\n",
      " [-3258213.47]\n",
      " [-4646300.51]\n",
      " [ -826155.15]\n",
      " [ -564612.24]\n",
      " [ 4426693.6 ]\n",
      " [ -589506.44]\n",
      " [-5176146.66]\n",
      " [ 5499059.63]\n",
      " [ -290372.29]\n",
      " [ -553576.77]\n",
      " [-5848873.78]\n",
      " [  733211.08]\n",
      " [-3759030.91]\n",
      " [11476798.64]\n",
      " [-5592277.33]\n",
      " [ -592696.25]\n",
      " [-6014717.66]\n",
      " [ 6174842.78]\n",
      " [ 1484295.63]\n",
      " [-1018786.69]\n",
      " [ 1999335.05]\n",
      " [-3076022.25]\n",
      " [ -742766.1 ]\n",
      " [-1031917.58]\n",
      " [ 2905157.88]\n",
      " [-2719859.72]\n",
      " [-5442033.46]\n",
      " [ 6413428.58]\n",
      " [-3489830.28]\n",
      " [-1030381.3 ]\n",
      " [ 1824185.41]]\n",
      "\n",
      "Squared Errors: [[4.63815532e+13]\n",
      " [4.24667739e+13]\n",
      " [1.06159550e+13]\n",
      " [2.15881084e+13]\n",
      " [6.82532332e+11]\n",
      " [3.18786982e+11]\n",
      " [1.95956162e+13]\n",
      " [3.47517843e+11]\n",
      " [2.67924942e+13]\n",
      " [3.02396568e+13]\n",
      " [8.43160668e+10]\n",
      " [3.06447240e+11]\n",
      " [3.42093245e+13]\n",
      " [5.37598488e+11]\n",
      " [1.41303134e+13]\n",
      " [1.31716907e+14]\n",
      " [3.12735657e+13]\n",
      " [3.51288845e+11]\n",
      " [3.61768285e+13]\n",
      " [3.81286834e+13]\n",
      " [2.20313352e+12]\n",
      " [1.03792632e+12]\n",
      " [3.99734064e+12]\n",
      " [9.46191288e+12]\n",
      " [5.51701479e+11]\n",
      " [1.06485389e+12]\n",
      " [8.43994231e+12]\n",
      " [7.39763690e+12]\n",
      " [2.96157282e+13]\n",
      " [4.11320662e+13]\n",
      " [1.21789154e+13]\n",
      " [1.06168562e+12]\n",
      " [3.32765241e+12]]\n",
      "\n",
      "Sum of squared errors for baseline model: 607414763817946.9\n"
     ]
    }
   ],
   "source": [
    "differences=y_train-baseline_pred\n",
    "print(\"ERRORS:\",differences)\n",
    "squared_differences=differences**2\n",
    "print(\"\\nSquared Errors:\",squared_differences)\n",
    "sse=squared_differences.sum()\n",
    "print(\"\\nSum of squared errors for baseline model:\",sse)"
   ]
  },
  {
   "cell_type": "code",
   "execution_count": 44,
   "id": "19406edf",
   "metadata": {},
   "outputs": [],
   "source": [
    "def sse(y_true,y_pred):\n",
    "    return ((y_true-y_pred)**2).sum()"
   ]
  },
  {
   "cell_type": "code",
   "execution_count": 45,
   "id": "1fbb7059",
   "metadata": {},
   "outputs": [],
   "source": [
    "y_train_pred=regressor.predict(x_train)"
   ]
  },
  {
   "cell_type": "code",
   "execution_count": 46,
   "id": "76b4781e",
   "metadata": {},
   "outputs": [
    {
     "name": "stdout",
     "output_type": "stream",
     "text": [
      "Regression Model SSE: 131824692420147.73\n"
     ]
    }
   ],
   "source": [
    "sse_train=sse(y_train,y_train_pred)\n",
    "print(\"Regression Model SSE:\",sse_train)"
   ]
  },
  {
   "cell_type": "code",
   "execution_count": 47,
   "id": "ae4176fe",
   "metadata": {},
   "outputs": [],
   "source": [
    "from sklearn.metrics import r2_score"
   ]
  },
  {
   "cell_type": "code",
   "execution_count": 49,
   "id": "ce1f31aa",
   "metadata": {
    "scrolled": true
   },
   "outputs": [
    {
     "name": "stdout",
     "output_type": "stream",
     "text": [
      "-0.0\n"
     ]
    }
   ],
   "source": [
    "baseline_score=r2_score(y_train,[baseline_pred]*len(y_train))\n",
    "print(baseline_score.round(2))"
   ]
  },
  {
   "cell_type": "code",
   "execution_count": 50,
   "id": "869e92a5",
   "metadata": {},
   "outputs": [
    {
     "name": "stdout",
     "output_type": "stream",
     "text": [
      "0.78\n"
     ]
    }
   ],
   "source": [
    "model_score=r2_score(y_train,y_train_pred)\n",
    "print(model_score.round(2))"
   ]
  },
  {
   "cell_type": "code",
   "execution_count": 51,
   "id": "ddececcf",
   "metadata": {},
   "outputs": [
    {
     "name": "stdout",
     "output_type": "stream",
     "text": [
      "0.71\n"
     ]
    }
   ],
   "source": [
    "test_score=r2_score(y_test,regressor.predict(x_test))\n",
    "print(test_score.round(2))"
   ]
  },
  {
   "cell_type": "code",
   "execution_count": null,
   "id": "84008950",
   "metadata": {},
   "outputs": [],
   "source": []
  },
  {
   "cell_type": "code",
   "execution_count": null,
   "id": "6f29bfc4",
   "metadata": {},
   "outputs": [],
   "source": []
  }
 ],
 "metadata": {
  "kernelspec": {
   "display_name": "Python 3",
   "language": "python",
   "name": "python3"
  },
  "language_info": {
   "codemirror_mode": {
    "name": "ipython",
    "version": 3
   },
   "file_extension": ".py",
   "mimetype": "text/x-python",
   "name": "python",
   "nbconvert_exporter": "python",
   "pygments_lexer": "ipython3",
   "version": "3.8.8"
  }
 },
 "nbformat": 4,
 "nbformat_minor": 5
}
