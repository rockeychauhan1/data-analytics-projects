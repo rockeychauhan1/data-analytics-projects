{
 "cells": [
  {
   "cell_type": "code",
   "execution_count": 2,
   "id": "35af9401",
   "metadata": {},
   "outputs": [],
   "source": [
    "import pandas as pd\n",
    "from tqdm import tqdm\n",
    "df = pd.read_csv('Documents/songs.csv')"
   ]
  },
  {
   "cell_type": "code",
   "execution_count": 3,
   "id": "1b83d942",
   "metadata": {},
   "outputs": [
    {
     "data": {
      "text/html": [
       "<div>\n",
       "<style scoped>\n",
       "    .dataframe tbody tr th:only-of-type {\n",
       "        vertical-align: middle;\n",
       "    }\n",
       "\n",
       "    .dataframe tbody tr th {\n",
       "        vertical-align: top;\n",
       "    }\n",
       "\n",
       "    .dataframe thead th {\n",
       "        text-align: right;\n",
       "    }\n",
       "</style>\n",
       "<table border=\"1\" class=\"dataframe\">\n",
       "  <thead>\n",
       "    <tr style=\"text-align: right;\">\n",
       "      <th></th>\n",
       "      <th>name</th>\n",
       "      <th>singer</th>\n",
       "      <th>singer_id</th>\n",
       "      <th>duration</th>\n",
       "      <th>link</th>\n",
       "      <th>language</th>\n",
       "    </tr>\n",
       "  </thead>\n",
       "  <tbody>\n",
       "    <tr>\n",
       "      <th>0</th>\n",
       "      <td>Dil - E - Nadan Tujhe</td>\n",
       "      <td>Chitra Singh|Jagjit Singh</td>\n",
       "      <td>/artist/chitra-singh|/artist/jagjeet-singh-1</td>\n",
       "      <td>05:00</td>\n",
       "      <td>/dil-e-nadan-tujhe-3</td>\n",
       "      <td>Urdu</td>\n",
       "    </tr>\n",
       "    <tr>\n",
       "      <th>1</th>\n",
       "      <td>Agar Hum Kahen Aur Woh Muskara De</td>\n",
       "      <td>Chitra Singh|Jagjit Singh</td>\n",
       "      <td>/artist/chitra-singh|/artist/jagjeet-singh-1</td>\n",
       "      <td>06:26</td>\n",
       "      <td>/agar-hum-kahen-aur-woh-muskura-den</td>\n",
       "      <td>Urdu</td>\n",
       "    </tr>\n",
       "    <tr>\n",
       "      <th>2</th>\n",
       "      <td>Unke Dekhe Se</td>\n",
       "      <td>Jagjit Singh</td>\n",
       "      <td>/artist/jagjeet-singh-1</td>\n",
       "      <td>03:41</td>\n",
       "      <td>/unke-dekhe-se</td>\n",
       "      <td>Urdu</td>\n",
       "    </tr>\n",
       "    <tr>\n",
       "      <th>3</th>\n",
       "      <td>Yeh Na Thi Hamari Qismat - Chitra Singh</td>\n",
       "      <td>Chitra Singh</td>\n",
       "      <td>/artist/chitra-singh</td>\n",
       "      <td>04:26</td>\n",
       "      <td>/yeh-na-thi-hamari-qismat-2</td>\n",
       "      <td>Urdu</td>\n",
       "    </tr>\n",
       "    <tr>\n",
       "      <th>4</th>\n",
       "      <td>Hazaron Khwahishen Aisi</td>\n",
       "      <td>Jagjit Singh</td>\n",
       "      <td>/artist/jagjeet-singh-1</td>\n",
       "      <td>05:39</td>\n",
       "      <td>/hazaron-khwahishen-aisi-1</td>\n",
       "      <td>Urdu</td>\n",
       "    </tr>\n",
       "  </tbody>\n",
       "</table>\n",
       "</div>"
      ],
      "text/plain": [
       "                                      name                     singer  \\\n",
       "0                    Dil - E - Nadan Tujhe  Chitra Singh|Jagjit Singh   \n",
       "1        Agar Hum Kahen Aur Woh Muskara De  Chitra Singh|Jagjit Singh   \n",
       "2                            Unke Dekhe Se               Jagjit Singh   \n",
       "3  Yeh Na Thi Hamari Qismat - Chitra Singh               Chitra Singh   \n",
       "4                  Hazaron Khwahishen Aisi               Jagjit Singh   \n",
       "\n",
       "                                      singer_id duration  \\\n",
       "0  /artist/chitra-singh|/artist/jagjeet-singh-1    05:00   \n",
       "1  /artist/chitra-singh|/artist/jagjeet-singh-1    06:26   \n",
       "2                       /artist/jagjeet-singh-1    03:41   \n",
       "3                          /artist/chitra-singh    04:26   \n",
       "4                       /artist/jagjeet-singh-1    05:39   \n",
       "\n",
       "                                  link language  \n",
       "0                 /dil-e-nadan-tujhe-3     Urdu  \n",
       "1  /agar-hum-kahen-aur-woh-muskura-den     Urdu  \n",
       "2                       /unke-dekhe-se     Urdu  \n",
       "3          /yeh-na-thi-hamari-qismat-2     Urdu  \n",
       "4           /hazaron-khwahishen-aisi-1     Urdu  "
      ]
     },
     "execution_count": 3,
     "metadata": {},
     "output_type": "execute_result"
    }
   ],
   "source": [
    "df.head()"
   ]
  },
  {
   "cell_type": "code",
   "execution_count": 6,
   "id": "62e71e66",
   "metadata": {},
   "outputs": [
    {
     "data": {
      "text/plain": [
       "name         0\n",
       "singer       0\n",
       "singer_id    0\n",
       "duration     0\n",
       "link         0\n",
       "language     0\n",
       "dtype: int64"
      ]
     },
     "execution_count": 6,
     "metadata": {},
     "output_type": "execute_result"
    }
   ],
   "source": [
    "#  Checking Null Values\n",
    "df.isnull().sum() \n"
   ]
  },
  {
   "cell_type": "code",
   "execution_count": 7,
   "id": "8bd683e6",
   "metadata": {},
   "outputs": [
    {
     "data": {
      "text/html": [
       "<div>\n",
       "<style scoped>\n",
       "    .dataframe tbody tr th:only-of-type {\n",
       "        vertical-align: middle;\n",
       "    }\n",
       "\n",
       "    .dataframe tbody tr th {\n",
       "        vertical-align: top;\n",
       "    }\n",
       "\n",
       "    .dataframe thead th {\n",
       "        text-align: right;\n",
       "    }\n",
       "</style>\n",
       "<table border=\"1\" class=\"dataframe\">\n",
       "  <thead>\n",
       "    <tr style=\"text-align: right;\">\n",
       "      <th></th>\n",
       "      <th>name</th>\n",
       "      <th>singer</th>\n",
       "      <th>singer_id</th>\n",
       "      <th>duration</th>\n",
       "      <th>link</th>\n",
       "      <th>language</th>\n",
       "    </tr>\n",
       "  </thead>\n",
       "  <tbody>\n",
       "    <tr>\n",
       "      <th>0</th>\n",
       "      <td>Dil - E - Nadan Tujhe</td>\n",
       "      <td>Chitra Singh|Jagjit Singh</td>\n",
       "      <td>/artist/chitra-singh|/artist/jagjeet-singh-1</td>\n",
       "      <td>300</td>\n",
       "      <td>/dil-e-nadan-tujhe-3</td>\n",
       "      <td>Urdu</td>\n",
       "    </tr>\n",
       "    <tr>\n",
       "      <th>1</th>\n",
       "      <td>Agar Hum Kahen Aur Woh Muskara De</td>\n",
       "      <td>Chitra Singh|Jagjit Singh</td>\n",
       "      <td>/artist/chitra-singh|/artist/jagjeet-singh-1</td>\n",
       "      <td>386</td>\n",
       "      <td>/agar-hum-kahen-aur-woh-muskura-den</td>\n",
       "      <td>Urdu</td>\n",
       "    </tr>\n",
       "    <tr>\n",
       "      <th>2</th>\n",
       "      <td>Unke Dekhe Se</td>\n",
       "      <td>Jagjit Singh</td>\n",
       "      <td>/artist/jagjeet-singh-1</td>\n",
       "      <td>221</td>\n",
       "      <td>/unke-dekhe-se</td>\n",
       "      <td>Urdu</td>\n",
       "    </tr>\n",
       "    <tr>\n",
       "      <th>3</th>\n",
       "      <td>Yeh Na Thi Hamari Qismat - Chitra Singh</td>\n",
       "      <td>Chitra Singh</td>\n",
       "      <td>/artist/chitra-singh</td>\n",
       "      <td>266</td>\n",
       "      <td>/yeh-na-thi-hamari-qismat-2</td>\n",
       "      <td>Urdu</td>\n",
       "    </tr>\n",
       "    <tr>\n",
       "      <th>4</th>\n",
       "      <td>Hazaron Khwahishen Aisi</td>\n",
       "      <td>Jagjit Singh</td>\n",
       "      <td>/artist/jagjeet-singh-1</td>\n",
       "      <td>339</td>\n",
       "      <td>/hazaron-khwahishen-aisi-1</td>\n",
       "      <td>Urdu</td>\n",
       "    </tr>\n",
       "  </tbody>\n",
       "</table>\n",
       "</div>"
      ],
      "text/plain": [
       "                                      name                     singer  \\\n",
       "0                    Dil - E - Nadan Tujhe  Chitra Singh|Jagjit Singh   \n",
       "1        Agar Hum Kahen Aur Woh Muskara De  Chitra Singh|Jagjit Singh   \n",
       "2                            Unke Dekhe Se               Jagjit Singh   \n",
       "3  Yeh Na Thi Hamari Qismat - Chitra Singh               Chitra Singh   \n",
       "4                  Hazaron Khwahishen Aisi               Jagjit Singh   \n",
       "\n",
       "                                      singer_id  duration  \\\n",
       "0  /artist/chitra-singh|/artist/jagjeet-singh-1       300   \n",
       "1  /artist/chitra-singh|/artist/jagjeet-singh-1       386   \n",
       "2                       /artist/jagjeet-singh-1       221   \n",
       "3                          /artist/chitra-singh       266   \n",
       "4                       /artist/jagjeet-singh-1       339   \n",
       "\n",
       "                                  link language  \n",
       "0                 /dil-e-nadan-tujhe-3     Urdu  \n",
       "1  /agar-hum-kahen-aur-woh-muskura-den     Urdu  \n",
       "2                       /unke-dekhe-se     Urdu  \n",
       "3          /yeh-na-thi-hamari-qismat-2     Urdu  \n",
       "4           /hazaron-khwahishen-aisi-1     Urdu  "
      ]
     },
     "execution_count": 7,
     "metadata": {},
     "output_type": "execute_result"
    }
   ],
   "source": [
    "# Data Preprocess\n",
    "# Dealing with Duration\n",
    "duration_lst = []\n",
    "for duration in df['duration']:\n",
    "  m = int(duration.split(':')[0])\n",
    "  s = int(duration.split(':')[1])\n",
    "  sec = (m*60) + s\n",
    "  duration_lst.append(sec)\n",
    "df['duration'] = duration_lst\n",
    "df.head()"
   ]
  },
  {
   "cell_type": "code",
   "execution_count": 8,
   "id": "b4558ae9",
   "metadata": {},
   "outputs": [
    {
     "name": "stdout",
     "output_type": "stream",
     "text": [
      "Average duration of a song is 295 seconds\n"
     ]
    }
   ],
   "source": [
    "#  Average Duration of a song thorughout the dataset\n",
    "print(\"Average duration of a song is\", int(df['duration'].sum() / len(df['duration'])), 'seconds')"
   ]
  },
  {
   "cell_type": "code",
   "execution_count": 9,
   "id": "8018eff3",
   "metadata": {},
   "outputs": [
    {
     "data": {
      "text/plain": [
       "16"
      ]
     },
     "execution_count": 9,
     "metadata": {},
     "output_type": "execute_result"
    }
   ],
   "source": [
    "# How many laguages of songs are there is the dataset?\n",
    "len(set(df['language']))"
   ]
  },
  {
   "cell_type": "code",
   "execution_count": 10,
   "id": "fad6b1f1",
   "metadata": {},
   "outputs": [
    {
     "name": "stdout",
     "output_type": "stream",
     "text": [
      "Rajasthani\n",
      "Bengali\n",
      "Marathi\n",
      "Haryanvi\n",
      "Odia\n",
      "Gujarati\n",
      "Tamil\n",
      "Old\n",
      "Malayalam\n",
      "Punjabi\n",
      "Assamese\n",
      "Urdu\n",
      "Bhojpuri\n",
      "Telugu\n",
      "Hindi\n",
      "Kannada\n"
     ]
    }
   ],
   "source": [
    "# What are all the languages in the dataset?\n",
    "for i in set(df['language']):\n",
    "  print(i)"
   ]
  },
  {
   "cell_type": "code",
   "execution_count": 11,
   "id": "45ee517f",
   "metadata": {},
   "outputs": [
    {
     "name": "stdout",
     "output_type": "stream",
     "text": [
      "There are 3818 songs in Punjabi\n"
     ]
    }
   ],
   "source": [
    "# How many Punjabi songs are there?\n",
    "c = 0\n",
    "\n",
    "for i in df['language']:\n",
    "  if (i == 'Punjabi'):\n",
    "    c += 1\n",
    "\n",
    "print('There are',c,'songs in Punjabi')"
   ]
  },
  {
   "cell_type": "code",
   "execution_count": 12,
   "id": "1fda6629",
   "metadata": {},
   "outputs": [
    {
     "data": {
      "text/plain": [
       "3818"
      ]
     },
     "execution_count": 12,
     "metadata": {},
     "output_type": "execute_result"
    }
   ],
   "source": [
    "len(df[df['language'] == 'Punjabi'])"
   ]
  },
  {
   "cell_type": "code",
   "execution_count": 13,
   "id": "be2d44aa",
   "metadata": {},
   "outputs": [
    {
     "name": "stdout",
     "output_type": "stream",
     "text": [
      "Urdu 3116\n",
      "Gujarati 2115\n",
      "Tamil 4677\n",
      "Kannada 3559\n",
      "Rajasthani 541\n",
      "Haryanvi 228\n",
      "Punjabi 3818\n",
      "Hindi 4993\n",
      "Old 4993\n",
      "Malayalam 479\n",
      "Marathi 4699\n",
      "Telugu 4996\n",
      "Odia 940\n",
      "Bhojpuri 519\n",
      "Assamese 724\n",
      "Bengali 958\n"
     ]
    }
   ],
   "source": [
    "# Number of songs in each Language?\n",
    "for lang in df['language'].unique():\n",
    "  print(lang, len(df[df['language'] == lang]))"
   ]
  },
  {
   "cell_type": "code",
   "execution_count": 15,
   "id": "b77c9f5c",
   "metadata": {},
   "outputs": [
    {
     "name": "stdout",
     "output_type": "stream",
     "text": [
      "Urdu 407 sec\n",
      "Gujarati 271 sec\n",
      "Tamil 270 sec\n",
      "Kannada 250 sec\n",
      "Rajasthani 291 sec\n",
      "Haryanvi 320 sec\n",
      "Punjabi 324 sec\n",
      "Hindi 307 sec\n",
      "Old 307 sec\n",
      "Malayalam 242 sec\n",
      "Marathi 281 sec\n",
      "Telugu 279 sec\n",
      "Odia 257 sec\n",
      "Bhojpuri 357 sec\n",
      "Assamese 228 sec\n",
      "Bengali 255 sec\n"
     ]
    }
   ],
   "source": [
    "# Average Duration of song in each language\n",
    "for lang in df['language'].unique():\n",
    "  print(lang, int(df[df['language'] == lang]['duration'].mean()),'sec')"
   ]
  },
  {
   "cell_type": "code",
   "execution_count": 16,
   "id": "2f3dac03",
   "metadata": {},
   "outputs": [
    {
     "name": "stdout",
     "output_type": "stream",
     "text": [
      "Total Singers :  3940\n"
     ]
    }
   ],
   "source": [
    "# How many unique singers are there in the dataset?\n",
    "all_singer = []\n",
    "for singers in df['singer']:\n",
    "  all_singer += singers.split('|')\n",
    "\n",
    "print('Total Singers : ', len(set(all_singer)))"
   ]
  },
  {
   "cell_type": "code",
   "execution_count": 17,
   "id": "fdd12d57",
   "metadata": {},
   "outputs": [
    {
     "name": "stderr",
     "output_type": "stream",
     "text": [
      "100%|██████████| 3940/3940 [00:57<00:00, 68.23it/s]\n"
     ]
    }
   ],
   "source": [
    "# Who has the most number of songs played?\n",
    "data = []\n",
    "\n",
    "unique_singers = list(set(all_singer))\n",
    "\n",
    "for i in tqdm(unique_singers):\n",
    "\n",
    "  c = 0\n",
    "  for singers_ in df['singer']:\n",
    "    if (i in singers_):\n",
    "      c += 1\n",
    "\n",
    "  data.append([i,c])"
   ]
  },
  {
   "cell_type": "code",
   "execution_count": 18,
   "id": "152e30fb",
   "metadata": {},
   "outputs": [
    {
     "data": {
      "text/html": [
       "<div>\n",
       "<style scoped>\n",
       "    .dataframe tbody tr th:only-of-type {\n",
       "        vertical-align: middle;\n",
       "    }\n",
       "\n",
       "    .dataframe tbody tr th {\n",
       "        vertical-align: top;\n",
       "    }\n",
       "\n",
       "    .dataframe thead th {\n",
       "        text-align: right;\n",
       "    }\n",
       "</style>\n",
       "<table border=\"1\" class=\"dataframe\">\n",
       "  <thead>\n",
       "    <tr style=\"text-align: right;\">\n",
       "      <th></th>\n",
       "      <th>singer</th>\n",
       "      <th>songs</th>\n",
       "    </tr>\n",
       "  </thead>\n",
       "  <tbody>\n",
       "    <tr>\n",
       "      <th>3616</th>\n",
       "      <td>S. P. Balasubrahmanyam</td>\n",
       "      <td>3659</td>\n",
       "    </tr>\n",
       "    <tr>\n",
       "      <th>1487</th>\n",
       "      <td>Kumar</td>\n",
       "      <td>3270</td>\n",
       "    </tr>\n",
       "    <tr>\n",
       "      <th>793</th>\n",
       "      <td>Susheel</td>\n",
       "      <td>3216</td>\n",
       "    </tr>\n",
       "    <tr>\n",
       "      <th>768</th>\n",
       "      <td>Susheela</td>\n",
       "      <td>3215</td>\n",
       "    </tr>\n",
       "    <tr>\n",
       "      <th>2078</th>\n",
       "      <td>P. Susheela</td>\n",
       "      <td>3213</td>\n",
       "    </tr>\n",
       "  </tbody>\n",
       "</table>\n",
       "</div>"
      ],
      "text/plain": [
       "                      singer  songs\n",
       "3616  S. P. Balasubrahmanyam   3659\n",
       "1487                   Kumar   3270\n",
       "793                  Susheel   3216\n",
       "768                 Susheela   3215\n",
       "2078             P. Susheela   3213"
      ]
     },
     "execution_count": 18,
     "metadata": {},
     "output_type": "execute_result"
    }
   ],
   "source": [
    "songs = pd.DataFrame(data, columns = ['singer','songs'])\n",
    "\n",
    "songs.head()\n",
    "\n",
    "songs.sort_values(by = 'songs', ascending = False).head()"
   ]
  },
  {
   "cell_type": "code",
   "execution_count": null,
   "id": "639e54c5",
   "metadata": {},
   "outputs": [],
   "source": [
    "# Singer who played most number of songs in each language\n"
   ]
  }
 ],
 "metadata": {
  "kernelspec": {
   "display_name": "Python 3",
   "language": "python",
   "name": "python3"
  },
  "language_info": {
   "codemirror_mode": {
    "name": "ipython",
    "version": 3
   },
   "file_extension": ".py",
   "mimetype": "text/x-python",
   "name": "python",
   "nbconvert_exporter": "python",
   "pygments_lexer": "ipython3",
   "version": "3.8.8"
  }
 },
 "nbformat": 4,
 "nbformat_minor": 5
}
